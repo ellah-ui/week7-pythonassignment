{
 "cells": [
  {
   "cell_type": "code",
   "execution_count": 72,
   "id": "ec3bdd03-606a-478f-80fc-71de91c6e410",
   "metadata": {},
   "outputs": [],
   "source": [
    "import pandas as pd\n",
    "import matplotlib.pyplot as plt\n",
    "import seaborn as sns"
   ]
  },
  {
   "cell_type": "code",
   "execution_count": null,
   "id": "e4fd0081-16bf-4a42-9024-005850ba9b9f",
   "metadata": {},
   "outputs": [],
   "source": [
    "# TASK 1"
   ]
  },
  {
   "cell_type": "code",
   "execution_count": 73,
   "id": "c6f99708-df6e-49eb-9bf0-44143a2572c1",
   "metadata": {},
   "outputs": [
    {
     "name": "stdout",
     "output_type": "stream",
     "text": [
      "Dataset loaded successfully\n"
     ]
    }
   ],
   "source": [
    "# Load the dataset\n",
    "try:\n",
    "    df = pd.read_csv('Ball_by_Ball.csv') \n",
    "    print(\"Dataset loaded successfully\")\n",
    "except FileNotFoundError:\n",
    "    print(\"Error: File not found. Please check the file path.\")"
   ]
  },
  {
   "cell_type": "code",
   "execution_count": 74,
   "id": "db604f79-2f6b-453f-9821-a6327eb6ef8a",
   "metadata": {},
   "outputs": [
    {
     "name": "stdout",
     "output_type": "stream",
     "text": [
      "\n",
      "First 5 rows of the dataset:\n",
      "   Match_Id  Innings_Id  Over_Id  Ball_Id  Team_Batting_Id  Team_Bowling_Id  \\\n",
      "0    335987           1        1        1                1                2   \n",
      "1    335987           1        1        2                1                2   \n",
      "2    335987           1        1        3                1                2   \n",
      "3    335987           1        1        4                1                2   \n",
      "4    335987           1        1        5                1                2   \n",
      "\n",
      "   Striker_Id  Striker_Batting_Position  Non_Striker_Id  Bowler_Id  \\\n",
      "0           1                         1               2         14   \n",
      "1           2                         2               1         14   \n",
      "2           2                         2               1         14   \n",
      "3           2                         2               1         14   \n",
      "4           2                         2               1         14   \n",
      "\n",
      "  Batsman_Scored Extra_Type Extra_Runs Player_dissimal_Id Dissimal_Type  \\\n",
      "0              0    legbyes          1                                    \n",
      "1              0                                                          \n",
      "2              0      wides          1                                    \n",
      "3              0                                                          \n",
      "4              0                                                          \n",
      "\n",
      "  Fielder_Id  \n",
      "0             \n",
      "1             \n",
      "2             \n",
      "3             \n",
      "4             \n"
     ]
    }
   ],
   "source": [
    "# Display the first two rows\n",
    "print(\"\\nFirst 5 rows of the dataset:\")\n",
    "print(df.head())"
   ]
  },
  {
   "cell_type": "code",
   "execution_count": 75,
   "id": "c7f8485c-f41a-422c-927c-1283abffc18b",
   "metadata": {},
   "outputs": [
    {
     "name": "stdout",
     "output_type": "stream",
     "text": [
      "\n",
      "Dataset info:\n",
      "<class 'pandas.core.frame.DataFrame'>\n",
      "RangeIndex: 136590 entries, 0 to 136589\n",
      "Data columns (total 16 columns):\n",
      " #   Column                    Non-Null Count   Dtype \n",
      "---  ------                    --------------   ----- \n",
      " 0   Match_Id                  136590 non-null  int64 \n",
      " 1   Innings_Id                136590 non-null  int64 \n",
      " 2   Over_Id                   136590 non-null  int64 \n",
      " 3   Ball_Id                   136590 non-null  int64 \n",
      " 4   Team_Batting_Id           136590 non-null  int64 \n",
      " 5   Team_Bowling_Id           136590 non-null  int64 \n",
      " 6   Striker_Id                136590 non-null  int64 \n",
      " 7   Striker_Batting_Position  136590 non-null  int64 \n",
      " 8   Non_Striker_Id            136590 non-null  int64 \n",
      " 9   Bowler_Id                 136590 non-null  int64 \n",
      " 10  Batsman_Scored            136590 non-null  object\n",
      " 11  Extra_Type                136590 non-null  object\n",
      " 12  Extra_Runs                136590 non-null  object\n",
      " 13  Player_dissimal_Id        136590 non-null  object\n",
      " 14  Dissimal_Type             136590 non-null  object\n",
      " 15  Fielder_Id                136590 non-null  object\n",
      "dtypes: int64(10), object(6)\n",
      "memory usage: 16.7+ MB\n",
      "None\n"
     ]
    }
   ],
   "source": [
    "# Exploring the dataset structure\n",
    "print (\"\\nDataset info:\")\n",
    "print (df.info())"
   ]
  },
  {
   "cell_type": "code",
   "execution_count": 76,
   "id": "9f50ae69-eb80-4358-874b-ea890895ed52",
   "metadata": {
    "scrolled": true
   },
   "outputs": [
    {
     "name": "stdout",
     "output_type": "stream",
     "text": [
      "\n",
      "Missing values in each column:\n",
      "Match_Id                    0\n",
      "Innings_Id                  0\n",
      "Over_Id                     0\n",
      "Ball_Id                     0\n",
      "Team_Batting_Id             0\n",
      "Team_Bowling_Id             0\n",
      "Striker_Id                  0\n",
      "Striker_Batting_Position    0\n",
      "Non_Striker_Id              0\n",
      "Bowler_Id                   0\n",
      "Batsman_Scored              0\n",
      "Extra_Type                  0\n",
      "Extra_Runs                  0\n",
      "Player_dissimal_Id          0\n",
      "Dissimal_Type               0\n",
      "Fielder_Id                  0\n",
      "dtype: int64\n"
     ]
    }
   ],
   "source": [
    "# Checking for missing values\n",
    "print(\"\\nMissing values in each column:\")\n",
    "print(df.isnull().sum())"
   ]
  },
  {
   "cell_type": "code",
   "execution_count": null,
   "id": "935fe13f-bde9-4811-b8df-dd1705ac6c2c",
   "metadata": {},
   "outputs": [],
   "source": []
  },
  {
   "cell_type": "code",
   "execution_count": null,
   "id": "a76eba00-7be6-495d-bb2e-e12cc1b8444e",
   "metadata": {},
   "outputs": [],
   "source": [
    "# TASK 2"
   ]
  },
  {
   "cell_type": "code",
   "execution_count": 77,
   "id": "30fb4d8b-11eb-427d-a675-cb1d888b29e3",
   "metadata": {},
   "outputs": [
    {
     "name": "stdout",
     "output_type": "stream",
     "text": [
      "\n",
      "After cleaning, missing values:\n",
      "Match_Id                         0\n",
      "Innings_Id                       0\n",
      "Over_Id                          0\n",
      "Ball_Id                          0\n",
      "Team_Batting_Id                  0\n",
      "Team_Bowling_Id                  0\n",
      "Striker_Id                       0\n",
      "Striker_Batting_Position         0\n",
      "Non_Striker_Id                   0\n",
      "Bowler_Id                        0\n",
      "Batsman_Scored                  16\n",
      "Extra_Type                  130330\n",
      "Extra_Runs                  130330\n",
      "Player_dissimal_Id          131058\n",
      "Dissimal_Type               131058\n",
      "Fielder_Id                  132577\n",
      "dtype: int64\n"
     ]
    }
   ],
   "source": [
    "# Cleaning the dataset - fill empty strings with NaN and then drop rows where key columns are missing\n",
    "df.replace(' ', pd.NA, inplace=True)\n",
    "df.dropna(subset=['Match_Id', 'Innings_Id', 'Over_Id', 'Ball_Id'], inplace=True)\n",
    "print(\"\\nAfter cleaning, missing values:\")\n",
    "print(df.isnull().sum())"
   ]
  },
  {
   "cell_type": "code",
   "execution_count": 78,
   "id": "a0074f37-0b1e-466a-8881-0546c852d180",
   "metadata": {
    "scrolled": true
   },
   "outputs": [
    {
     "name": "stdout",
     "output_type": "stream",
     "text": [
      "\n",
      "Basic statistics for numerical columns\n",
      "            Match_Id     Innings_Id        Over_Id        Ball_Id  \\\n",
      "count  136590.000000  136590.000000  136590.000000  136590.000000   \n",
      "mean   590906.063643       1.482744      10.144593       3.617278   \n",
      "std    195509.555405       0.501576       5.673822       1.808142   \n",
      "min    335987.000000       1.000000       1.000000       1.000000   \n",
      "25%    419140.000000       1.000000       5.000000       2.000000   \n",
      "50%    548353.000000       1.000000      10.000000       4.000000   \n",
      "75%    734002.000000       2.000000      15.000000       5.000000   \n",
      "max    981024.000000       4.000000      20.000000       9.000000   \n",
      "\n",
      "       Team_Batting_Id  Team_Bowling_Id     Striker_Id  \\\n",
      "count    136590.000000    136590.000000  136590.000000   \n",
      "mean          5.168951         5.156783     126.643239   \n",
      "std           3.033943         3.038008     111.078188   \n",
      "min           1.000000         1.000000       1.000000   \n",
      "25%           3.000000         3.000000      35.000000   \n",
      "50%           5.000000         5.000000      88.000000   \n",
      "75%           7.000000         7.000000     192.000000   \n",
      "max          13.000000        13.000000     434.000000   \n",
      "\n",
      "       Striker_Batting_Position  Non_Striker_Id      Bowler_Id  \n",
      "count             136590.000000   136590.000000  136590.000000  \n",
      "mean                   3.583608      125.985899     180.527374  \n",
      "std                    2.145077      110.613314     124.470080  \n",
      "min                    1.000000        1.000000       1.000000  \n",
      "25%                    2.000000       35.000000      73.000000  \n",
      "50%                    3.000000       88.000000     154.000000  \n",
      "75%                    5.000000      191.000000     293.000000  \n",
      "max                   11.000000      451.000000     465.000000  \n"
     ]
    }
   ],
   "source": [
    "# Basic statistics for numerical columns\n",
    "print(\"\\nBasic statistics for numerical columns\")\n",
    "print(df.describe())"
   ]
  },
  {
   "cell_type": "code",
   "execution_count": 79,
   "id": "494e4456-2a0d-4b5f-8f41-6dbc49c55c29",
   "metadata": {},
   "outputs": [
    {
     "name": "stdout",
     "output_type": "stream",
     "text": [
      "\n",
      "Dismissal types count:\n",
      "Dissimal_Type\n",
      "caught                   3245\n",
      "bowled                   1028\n",
      "run out                   583\n",
      "lbw                       326\n",
      "stumped                   187\n",
      "caught and bowled         148\n",
      "retired hurt                8\n",
      "hit wicket                  6\n",
      "obstructing the field       1\n",
      "Name: count, dtype: int64\n"
     ]
    }
   ],
   "source": [
    "# grouping by dismissal type and counting occurrences\n",
    "print(\"\\nDismissal types count:\")\n",
    "print(df['Dissimal_Type'].value_counts())"
   ]
  },
  {
   "cell_type": "code",
   "execution_count": 80,
   "id": "4a874e76-9f62-4a20-9ce0-2b04b7026477",
   "metadata": {},
   "outputs": [
    {
     "name": "stdout",
     "output_type": "stream",
     "text": [
      "\n",
      "Top 5 bowlers by number of balls bowled:\n",
      "Bowler_Id\n",
      "50     2738\n",
      "14     2529\n",
      "67     2472\n",
      "136    2466\n",
      "194    2406\n",
      "Name: Batsman_Scored, dtype: int64\n"
     ]
    }
   ],
   "source": [
    "# Grouping by bowler and calculating number of balls bowled\n",
    "bowler_stats = df.groupby('Bowler_Id')['Batsman_Scored'].count().sort_values(ascending=False)\n",
    "print(\"\\nTop 5 bowlers by number of balls bowled:\")\n",
    "print(bowler_stats.head())"
   ]
  },
  {
   "cell_type": "code",
   "execution_count": 81,
   "id": "98257b84-0dad-4082-8359-2ba202e4ba5d",
   "metadata": {},
   "outputs": [
    {
     "name": "stdout",
     "output_type": "stream",
     "text": [
      "\n",
      "Total number of ball bowled in each match:\n",
      "Match_Id\n",
      "501270     63\n",
      "598073    100\n",
      "829812    106\n",
      "392188    108\n",
      "336027    123\n",
      "         ... \n",
      "419126    259\n",
      "829742    261\n",
      "598009    261\n",
      "729320    262\n",
      "392195    267\n",
      "Name: Ball_Id, Length: 577, dtype: int64\n"
     ]
    }
   ],
   "source": [
    "# Grouping by match and counting the number of balls bowled\n",
    "match_balls = df.groupby('Match_Id')['Ball_Id'].count().sort_values(ascending=True)\n",
    "print(\"\\nTotal number of ball bowled in each match:\")\n",
    "print(match_balls)\n"
   ]
  },
  {
   "cell_type": "code",
   "execution_count": 82,
   "id": "b278379b-1a56-462a-9bca-5250478bc0ca",
   "metadata": {},
   "outputs": [
    {
     "name": "stdout",
     "output_type": "stream",
     "text": [
      "Extra_Type\n",
      "<NA>       130330\n",
      "wides        3496\n",
      "legbyes      1950\n",
      "noballs       493\n",
      "byes          320\n",
      "penalty         1\n",
      "Name: count, dtype: int64\n"
     ]
    }
   ],
   "source": [
    "print(df['Extra_Type'].value_counts(dropna=False))"
   ]
  },
  {
   "cell_type": "code",
   "execution_count": 83,
   "id": "7760d44f-aa89-46eb-ad4c-ac03dc7917af",
   "metadata": {},
   "outputs": [
    {
     "name": "stdout",
     "output_type": "stream",
     "text": [
      "\n",
      "Percentage of balls that were extras: 4.58%\n"
     ]
    }
   ],
   "source": [
    "# Interesting finding: Calculating the percentage of extra balls\n",
    "total_balls = len(df)\n",
    "extra_balls = len(df[df['Extra_Type'].notna()])\n",
    "print(f\"\\nPercentage of balls that were extras: {(extra_balls/total_balls)*100:.2f}%\")"
   ]
  },
  {
   "cell_type": "code",
   "execution_count": 84,
   "id": "d0c99880-3bc8-4dcf-99ab-9238db25362a",
   "metadata": {},
   "outputs": [
    {
     "name": "stdout",
     "output_type": "stream",
     "text": [
      "     Match_Id  Innings_Id  Over_Id  Ball_Id  Team_Batting_Id  Team_Bowling_Id  \\\n",
      "0      335987           1        1        1                1                2   \n",
      "1      335987           1        1        2                1                2   \n",
      "2      335987           1        1        3                1                2   \n",
      "3      335987           1        1        4                1                2   \n",
      "4      335987           1        1        5                1                2   \n",
      "..        ...         ...      ...      ...              ...              ...   \n",
      "220    335987           2       15        5                2                1   \n",
      "221    335987           2       15        6                2                1   \n",
      "222    335987           2       15        7                2                1   \n",
      "223    335987           2       16        1                2                1   \n",
      "224    335987           2       16        2                2                1   \n",
      "\n",
      "     Striker_Id  Striker_Batting_Position  Non_Striker_Id  Bowler_Id  \\\n",
      "0             1                         1               2         14   \n",
      "1             2                         2               1         14   \n",
      "2             2                         2               1         14   \n",
      "3             2                         2               1         14   \n",
      "4             2                         2               1         14   \n",
      "..          ...                       ...             ...        ...   \n",
      "220          14                         9              16         84   \n",
      "221          16                        11              14         84   \n",
      "222          14                         9              16         84   \n",
      "223          16                        11              14         63   \n",
      "224          16                        11              14         63   \n",
      "\n",
      "    Batsman_Scored Extra_Type Extra_Runs Player_dissimal_Id Dissimal_Type  \\\n",
      "0                0    legbyes          1               <NA>          <NA>   \n",
      "1                0       <NA>       <NA>               <NA>          <NA>   \n",
      "2                0      wides          1               <NA>          <NA>   \n",
      "3                0       <NA>       <NA>               <NA>          <NA>   \n",
      "4                0       <NA>       <NA>               <NA>          <NA>   \n",
      "..             ...        ...        ...                ...           ...   \n",
      "220              0    legbyes          1               <NA>          <NA>   \n",
      "221              1       <NA>       <NA>               <NA>          <NA>   \n",
      "222              0       <NA>       <NA>               <NA>          <NA>   \n",
      "223              0      wides          1               <NA>          <NA>   \n",
      "224              0       <NA>       <NA>                 16        caught   \n",
      "\n",
      "    Fielder_Id  \n",
      "0         <NA>  \n",
      "1         <NA>  \n",
      "2         <NA>  \n",
      "3         <NA>  \n",
      "4         <NA>  \n",
      "..         ...  \n",
      "220       <NA>  \n",
      "221       <NA>  \n",
      "222       <NA>  \n",
      "223       <NA>  \n",
      "224          2  \n",
      "\n",
      "[225 rows x 16 columns]\n"
     ]
    }
   ],
   "source": [
    "sample_match = df[df['Match_Id'] == 335987]\n",
    "print(sample_match)"
   ]
  },
  {
   "cell_type": "code",
   "execution_count": null,
   "id": "ace237a1-30d8-42b4-887d-f896b17a0930",
   "metadata": {},
   "outputs": [],
   "source": [
    "# TASK 3"
   ]
  },
  {
   "cell_type": "code",
   "execution_count": 85,
   "id": "08f1a09c-932d-40db-b086-86dcc87f4560",
   "metadata": {},
   "outputs": [
    {
     "data": {
      "text/plain": [
       "<Figure size 1500x1500 with 0 Axes>"
      ]
     },
     "execution_count": 85,
     "metadata": {},
     "output_type": "execute_result"
    },
    {
     "data": {
      "text/plain": [
       "<Figure size 1500x1500 with 0 Axes>"
      ]
     },
     "metadata": {},
     "output_type": "display_data"
    }
   ],
   "source": [
    "# Set style for plots\n",
    "sns.set_style('whitegrid')\n",
    "plt.figure(figsize=(15, 15))"
   ]
  },
  {
   "cell_type": "code",
   "execution_count": 95,
   "id": "5e3d0021-c670-4930-a8ab-57fffd2d0c79",
   "metadata": {},
   "outputs": [
    {
     "data": {
      "image/png": "[encoded data removed]",
      "text/plain": [
       "<Figure size 640x480 with 1 Axes>"
      ]
     },
     "metadata": {},
     "output_type": "display_data"
    }
   ],
   "source": [
    "# 1. Bar Chart: Show how many balls each non-striker faced in Match 335987\n",
    "plt.subplot(2, 2, 1)\n",
    "sample_match = df[df['Match_Id'] == 335987]\n",
    "balls_faced = sample_match.groupby('Non_Striker_Id')['Ball_Id'].nunique().sort_values(ascending=True)\n",
    "\n",
    "\n",
    "plt.bar(balls_faced.index.astype(str), balls_faced.values, width=0.5, color='green')\n",
    "plt.title('Balls Faced by Non-Strikers (Match 335987)')\n",
    "plt.xlabel('Non-Striker ID')\n",
    "plt.ylabel('Number of Balls')\n",
    "plt.xticks(rotation=90) \n",
    "plt.grid(True)\n"
   ]
  },
  {
   "cell_type": "code",
   "execution_count": 99,
   "id": "8f328326-5dd6-450c-a1e5-266d0d95dae3",
   "metadata": {},
   "outputs": [
    {
     "data": {
      "image/png": "[encoded data removed]",
      "text/plain": [
       "<Figure size 640x480 with 1 Axes>"
      ]
     },
     "metadata": {},
     "output_type": "display_data"
    }
   ],
   "source": [
    "# 2. Scatter plot: Show how many balls each non-striker faced in Match 335987\n",
    "plt.subplot(2, 2, 4)\n",
    "sample_match = df[df['Match_Id'] == 335987]\n",
    "balls_faced = sample_match.groupby('Non_Striker_Id')['Ball_Id'].nunique().sort_values(ascending=False)\n",
    "\n",
    "plt.scatter(balls_faced.index.astype(str), balls_faced.values, color='blue')\n",
    "plt.title('Balls Faced by Non-Strikers (Match 335987)')\n",
    "plt.xlabel('Non-Striker ID')\n",
    "plt.ylabel('Number of Balls')\n",
    "plt.xticks(rotation=90)\n",
    "plt.grid(True)\n"
   ]
  },
  {
   "cell_type": "code",
   "execution_count": 111,
   "id": "cc99b769-9d82-4018-997f-4f0dc04b93cb",
   "metadata": {},
   "outputs": [
    {
     "data": {
      "image/png": "[encoded data removed]",
      "text/plain": [
       "<Figure size 640x480 with 1 Axes>"
      ]
     },
     "metadata": {},
     "output_type": "display_data"
    }
   ],
   "source": [
    "# 3. Histogram: Distribution of runs scored per ball\n",
    "plt.subplot(2, 2, 4)\n",
    "\n",
    "# Ensure 'Batsman_Scored' is numeric and drop NaN values\n",
    "df['Batsman_Scored'] = pd.to_numeric(df['Batsman_Scored'], errors='coerce')\n",
    "df_clean = df['Batsman_Scored'].dropna()  # Remove NaN values\n",
    "\n",
    "# Plot histogram with correct bin sizes and edge color\n",
    "df_clean.plot(kind='hist', bins=5, color='purple', edgecolor='black')\n",
    "\n",
    "plt.title('Distribution of Runs Scored Per Ball')\n",
    "plt.xlabel('Runs Scored')\n",
    "plt.ylabel('Frequency')\n",
    "plt.grid(True)\n"
   ]
  },
  {
   "cell_type": "code",
   "execution_count": 112,
   "id": "7452adcf-1be7-4d66-8546-7d58dd7c0beb",
   "metadata": {},
   "outputs": [
    {
     "data": {
      "image/png": "[encoded data removed]",
      "text/plain": [
       "<Figure size 640x480 with 1 Axes>"
      ]
     },
     "metadata": {},
     "output_type": "display_data"
    }
   ],
   "source": [
    "# 4. Line plot: Distribution of runs scored per ball\n",
    "plt.subplot(2, 2, 4)\n",
    "\n",
    "# Ensure 'Batsman_Scored' is numeric and drop NaN values\n",
    "df['Batsman_Scored'] = pd.to_numeric(df['Batsman_Scored'], errors='coerce')\n",
    "df_clean = df['Batsman_Scored'].dropna()\n",
    "\n",
    "# Calculate frequency of each run value\n",
    "run_counts = df_clean.value_counts().sort_index()\n",
    "plt.plot(run_counts.index, run_counts.values, marker='o', color='red')\n",
    "\n",
    "plt.title('Runs Scored Per Ball')\n",
    "plt.xlabel('Runs Scored')\n",
    "plt.ylabel('Frequency')\n",
    "plt.grid(True)\n"
   ]
  },
  {
   "cell_type": "code",
   "execution_count": null,
   "id": "16266451-ee00-4353-898b-1f17445f8247",
   "metadata": {},
   "outputs": [],
   "source": []
  }
 ],
 "metadata": {
  "kernelspec": {
   "display_name": "anaconda-panel-2023.05-py310",
   "language": "python",
   "name": "conda-env-anaconda-panel-2023.05-py310-py"
  },
  "language_info": {
   "codemirror_mode": {
    "name": "ipython",
    "version": 3
   },
   "file_extension": ".py",
   "mimetype": "text/x-python",
   "name": "python",
   "nbconvert_exporter": "python",
   "pygments_lexer": "ipython3",
   "version": "3.11.5"
  }
 },
 "nbformat": 4,
 "nbformat_minor": 5
}
